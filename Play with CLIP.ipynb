{
 "cells": [
  {
   "cell_type": "code",
   "execution_count": 1,
   "id": "f55c4101",
   "metadata": {},
   "outputs": [
    {
     "name": "stdout",
     "output_type": "stream",
     "text": [
      "Requirement already satisfied: ftfy in /Users/wenjingchu/anaconda3/lib/python3.11/site-packages (6.2.0)\n",
      "Requirement already satisfied: regex in /Users/wenjingchu/anaconda3/lib/python3.11/site-packages (2022.7.9)\n",
      "Requirement already satisfied: tqdm in /Users/wenjingchu/anaconda3/lib/python3.11/site-packages (4.65.0)\n",
      "Requirement already satisfied: wcwidth<0.3.0,>=0.2.12 in /Users/wenjingchu/anaconda3/lib/python3.11/site-packages (from ftfy) (0.2.13)\n",
      "Collecting git+https://github.com/openai/CLIP.git\n",
      "  Cloning https://github.com/openai/CLIP.git to /private/var/folders/w9/13d2twfd38j81zh0fbc9gf2r0000gn/T/pip-req-build-nexqnex9\n",
      "  Running command git clone --filter=blob:none --quiet https://github.com/openai/CLIP.git /private/var/folders/w9/13d2twfd38j81zh0fbc9gf2r0000gn/T/pip-req-build-nexqnex9\n",
      "  Resolved https://github.com/openai/CLIP.git to commit a1d071733d7111c9c014f024669f959182114e33\n",
      "  Preparing metadata (setup.py) ... \u001b[?25ldone\n",
      "\u001b[?25hRequirement already satisfied: ftfy in /Users/wenjingchu/anaconda3/lib/python3.11/site-packages (from clip==1.0) (6.2.0)\n",
      "Requirement already satisfied: regex in /Users/wenjingchu/anaconda3/lib/python3.11/site-packages (from clip==1.0) (2022.7.9)\n",
      "Requirement already satisfied: tqdm in /Users/wenjingchu/anaconda3/lib/python3.11/site-packages (from clip==1.0) (4.65.0)\n",
      "Requirement already satisfied: torch in /Users/wenjingchu/anaconda3/lib/python3.11/site-packages (from clip==1.0) (2.3.0)\n",
      "Requirement already satisfied: torchvision in /Users/wenjingchu/anaconda3/lib/python3.11/site-packages (from clip==1.0) (0.18.0)\n",
      "Requirement already satisfied: wcwidth<0.3.0,>=0.2.12 in /Users/wenjingchu/anaconda3/lib/python3.11/site-packages (from ftfy->clip==1.0) (0.2.13)\n",
      "Requirement already satisfied: filelock in /Users/wenjingchu/anaconda3/lib/python3.11/site-packages (from torch->clip==1.0) (3.9.0)\n",
      "Requirement already satisfied: typing-extensions>=4.8.0 in /Users/wenjingchu/anaconda3/lib/python3.11/site-packages (from torch->clip==1.0) (4.11.0)\n",
      "Requirement already satisfied: sympy in /Users/wenjingchu/anaconda3/lib/python3.11/site-packages (from torch->clip==1.0) (1.11.1)\n",
      "Requirement already satisfied: networkx in /Users/wenjingchu/anaconda3/lib/python3.11/site-packages (from torch->clip==1.0) (3.1)\n",
      "Requirement already satisfied: jinja2 in /Users/wenjingchu/anaconda3/lib/python3.11/site-packages (from torch->clip==1.0) (3.1.2)\n",
      "Requirement already satisfied: fsspec in /Users/wenjingchu/anaconda3/lib/python3.11/site-packages (from torch->clip==1.0) (2023.4.0)\n",
      "Requirement already satisfied: numpy in /Users/wenjingchu/anaconda3/lib/python3.11/site-packages (from torchvision->clip==1.0) (1.24.3)\n",
      "Requirement already satisfied: pillow!=8.3.*,>=5.3.0 in /Users/wenjingchu/anaconda3/lib/python3.11/site-packages (from torchvision->clip==1.0) (9.4.0)\n",
      "Requirement already satisfied: MarkupSafe>=2.0 in /Users/wenjingchu/anaconda3/lib/python3.11/site-packages (from jinja2->torch->clip==1.0) (2.1.1)\n",
      "Requirement already satisfied: mpmath>=0.19 in /Users/wenjingchu/anaconda3/lib/python3.11/site-packages (from sympy->torch->clip==1.0) (1.3.0)\n"
     ]
    }
   ],
   "source": [
    "! pip install ftfy regex tqdm\n",
    "! pip install git+https://github.com/openai/CLIP.git"
   ]
  },
  {
   "cell_type": "code",
   "execution_count": 2,
   "id": "909fcc61",
   "metadata": {},
   "outputs": [
    {
     "name": "stdout",
     "output_type": "stream",
     "text": [
      "Torch version: 2.3.0\n"
     ]
    }
   ],
   "source": [
    "import numpy as np\n",
    "import torch\n",
    "from pkg_resources import packaging\n",
    "import clip\n",
    "from PIL import Image\n",
    "\n",
    "print(\"Torch version:\", torch.__version__)"
   ]
  },
  {
   "cell_type": "code",
   "execution_count": 3,
   "id": "4c3d0a75",
   "metadata": {},
   "outputs": [
    {
     "data": {
      "text/plain": [
       "['RN50',\n",
       " 'RN101',\n",
       " 'RN50x4',\n",
       " 'RN50x16',\n",
       " 'RN50x64',\n",
       " 'ViT-B/32',\n",
       " 'ViT-B/16',\n",
       " 'ViT-L/14',\n",
       " 'ViT-L/14@336px']"
      ]
     },
     "execution_count": 3,
     "metadata": {},
     "output_type": "execute_result"
    }
   ],
   "source": [
    "clip.available_models()"
   ]
  },
  {
   "cell_type": "code",
   "execution_count": 9,
   "id": "c7151b17",
   "metadata": {},
   "outputs": [],
   "source": [
    "# device = \"cuda\" if torch.cuda.is_avaliable() else \"cpu\"\n",
    "device = 'cpu'\n",
    "model, preprocess = clip.load(\"ViT-B/32\", device=device)"
   ]
  },
  {
   "cell_type": "code",
   "execution_count": 7,
   "id": "81ef95ee",
   "metadata": {},
   "outputs": [],
   "source": [
    "import tarfile\n",
    "tar = tarfile.open('images.tar')\n",
    "\n",
    "def get_image(idx):\n",
    "    return Image.open(tar.extractfile(f\"{idx}.jpg\"))\n",
    "\n",
    "def embed_image(idx):\n",
    "    image_base64 = base64.b64encode(tar.extractfile(f\"{idx}.jpg\").read()).decode('ascii')\n",
    "    return f'<img src=\"data:image/jpeg;base64,{image_base64}\" />'"
   ]
  },
  {
   "cell_type": "code",
   "execution_count": 10,
   "id": "418b9406",
   "metadata": {},
   "outputs": [
    {
     "name": "stdout",
     "output_type": "stream",
     "text": [
      "Label probs: [[9.9984145e-01 1.1090267e-04 4.7689366e-05]]\n"
     ]
    }
   ],
   "source": [
    "image = preprocess(get_image(56340)).unsqueeze(0).to(device)\n",
    "text = clip.tokenize([\"Mario\", \"Frieren\", \"Lae'zel\"]).to(device)\n",
    "\n",
    "with torch.no_grad():\n",
    "    image_features = model.encode_image(image)\n",
    "    text_features = model.encode_text(text)\n",
    "    \n",
    "    logits_per_image, logits_per_text = model(image, text)\n",
    "    probs = logits_per_image.softmax(dim=-1).cpu().numpy()\n",
    "    \n",
    "print(\"Label probs:\", probs)"
   ]
  },
  {
   "cell_type": "code",
   "execution_count": 11,
   "id": "9b1d8078",
   "metadata": {},
   "outputs": [
    {
     "name": "stdout",
     "output_type": "stream",
     "text": [
      "Label probs: [[0.00516191 0.62878734 0.36605066]]\n"
     ]
    }
   ],
   "source": [
    "image = preprocess(get_image(30180)).unsqueeze(0).to(device)\n",
    "text = clip.tokenize([\"Mario\", \"Frieren\", \"Lae'zel\"]).to(device)\n",
    "\n",
    "with torch.no_grad():\n",
    "    image_features = model.encode_image(image)\n",
    "    text_features = model.encode_text(text)\n",
    "    \n",
    "    logits_per_image, logits_per_text = model(image, text)\n",
    "    probs = logits_per_image.softmax(dim=-1).cpu().numpy()\n",
    "    \n",
    "print(\"Label probs:\", probs)"
   ]
  },
  {
   "cell_type": "code",
   "execution_count": 12,
   "id": "5efca7cb",
   "metadata": {},
   "outputs": [
    {
     "name": "stdout",
     "output_type": "stream",
     "text": [
      "Label probs: [[0.02133997 0.14902025 0.8296398 ]]\n"
     ]
    }
   ],
   "source": [
    "image = preprocess(get_image(49582)).unsqueeze(0).to(device)\n",
    "text = clip.tokenize([\"Mario\", \"Frieren\", \"Lae'zel\"]).to(device)\n",
    "\n",
    "with torch.no_grad():\n",
    "    image_features = model.encode_image(image)\n",
    "    text_features = model.encode_text(text)\n",
    "    \n",
    "    logits_per_image, logits_per_text = model(image, text)\n",
    "    probs = logits_per_image.softmax(dim=-1).cpu().numpy()\n",
    "    \n",
    "print(\"Label probs:\", probs)"
   ]
  },
  {
   "cell_type": "code",
   "execution_count": null,
   "id": "e349f6c9",
   "metadata": {},
   "outputs": [],
   "source": []
  }
 ],
 "metadata": {
  "kernelspec": {
   "display_name": "Python 3 (ipykernel)",
   "language": "python",
   "name": "python3"
  },
  "language_info": {
   "codemirror_mode": {
    "name": "ipython",
    "version": 3
   },
   "file_extension": ".py",
   "mimetype": "text/x-python",
   "name": "python",
   "nbconvert_exporter": "python",
   "pygments_lexer": "ipython3",
   "version": "3.11.5"
  }
 },
 "nbformat": 4,
 "nbformat_minor": 5
}
